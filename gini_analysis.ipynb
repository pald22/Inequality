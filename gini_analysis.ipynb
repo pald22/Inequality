{
 "cells": [
  {
   "cell_type": "code",
   "execution_count": 261,
   "metadata": {},
   "outputs": [],
   "source": [
    "import pandas as pd\n",
    "import numpy as np\n",
    "import seaborn as sns\n",
    "import matplotlib.pyplot as plt"
   ]
  },
  {
   "cell_type": "code",
   "execution_count": 262,
   "metadata": {},
   "outputs": [],
   "source": [
    "#read gdp file\n",
    "df1 = pd.read_excel('gdp.xlsx')"
   ]
  },
  {
   "cell_type": "code",
   "execution_count": 263,
   "metadata": {},
   "outputs": [],
   "source": [
    "#read gini file\n",
    "df2 = pd.read_excel('gini.xlsx')"
   ]
  },
  {
   "cell_type": "code",
   "execution_count": 264,
   "metadata": {},
   "outputs": [],
   "source": [
    "#create country list\n",
    "def country():\n",
    "    \n",
    "    country1 = df1['country'] \n",
    "    country1 = set(country1) #gather country1\n",
    "\n",
    "    country2 = df2['countryname']\n",
    "    country2 = set(country2) #gather country2\n",
    "    \n",
    "    return list(country1 & country2) #find overlap"
   ]
  },
  {
   "cell_type": "code",
   "execution_count": 265,
   "metadata": {},
   "outputs": [],
   "source": [
    "#select gdp data based on country name\n",
    "def select1(country):\n",
    "    \n",
    "    df12 = df1.loc[df1['country'] == country] #select country data\n",
    "    \n",
    "    df12 = df12.loc[:,['year','rgdpe','pop']]#select relevant info\n",
    "    df12 = df12.dropna()#drop the enpty years\n",
    "    \n",
    "    df12['rgdpec'] = (df12['rgdpe']/df12['pop']) #calculate gdp per capita\n",
    "    \n",
    "    df12 = df12.drop(['rgdpe','pop'], axis = 1)#drop the old columns\n",
    "    df12.reset_index(drop = True, inplace = True)#reset index\n",
    "    \n",
    "    return df12"
   ]
  },
  {
   "cell_type": "code",
   "execution_count": 266,
   "metadata": {},
   "outputs": [],
   "source": [
    "#select gini data based on country name\n",
    "def select2(country):\n",
    "    \n",
    "    df22 = df2.loc[df2['countryname'] == country] #select country data\n",
    "    \n",
    "    df22t = df22.T#transpose so that it is in a columns format\n",
    "    df22t.dropna(inplace = True)#drop empty years\n",
    "    \n",
    "    df22t = df22t.drop(['country','code','countryname'])#drop not useful rows\n",
    "    \n",
    "    df22t['year'] = df22t.index#move the year out of the index\n",
    "    df22t.loc[:,'year'] = df22t['year'].astype(str).str[1:].astype(int)#change year type to be numerical\n",
    "    df22t = df22t.reset_index(drop = True)#reset index\n",
    "    \n",
    "    df22t = df22t.rename(columns = {list(df22t.columns)[0]:'gini'})#rename column to gini\n",
    "    df22t.loc[:,'gini'] = df22t['gini'].astype(float)#convert to numerical\n",
    "    \n",
    "    return df22t"
   ]
  },
  {
   "cell_type": "code",
   "execution_count": 267,
   "metadata": {},
   "outputs": [],
   "source": [
    "#find the matching year ranges\n",
    "def ranges(df12,df22):\n",
    "    \n",
    "    range1 = [min(df12['year']),max(df12['year'])]#find the min and max of gdp\n",
    "    range2 = [min(df22['year']),max(df22['year'])]#find the min and max of gini\n",
    "    range3 = [max(range1[0],range2[0]),min(range1[1],range2[1])]#find the start and end of the range\n",
    "    \n",
    "    return range(range3[0],range3[1]+1)#return a range"
   ]
  },
  {
   "cell_type": "code",
   "execution_count": 268,
   "metadata": {},
   "outputs": [],
   "source": [
    "#merge the two dataframes based on the year\n",
    "def merges(df12,df22,frange):\n",
    "    \n",
    "    df31 = pd.DataFrame(index = frange, columns = ['gdp','gini'])#initialise the dataframe\n",
    "    \n",
    "    for i in frange:#for each year\n",
    "        \n",
    "        df31.loc[i,'gdp'] = float(df12.loc[df12['year'] == i, 'rgdpec'])#select that gdp\n",
    "        \n",
    "        x = df22.loc[df22['year'] == i, 'gini']#select that gini\n",
    "        if len(x) != 0:#if it is not empty\n",
    "            \n",
    "            df31.loc[i,'gini'] = float(x)#store the gini\n",
    "    \n",
    "    df31.loc[:,'gdp'] = pd.to_numeric(df31['gdp'])\n",
    "    df31.loc[:,'gini'] = pd.to_numeric(df31['gini'])\n",
    "    \n",
    "    e = df31['gini'].isnull().sum()\n",
    "    \n",
    "    #if the gini is half or less empty skip it\n",
    "    if e > len(df31['gdp'])*0.3 and len(df31['gdp'])-e > 3: #and more than 3 gini points\n",
    "        \n",
    "        df31.loc[:,'gini'] = df31['gini'].interpolate()\n",
    "        \n",
    "    else:\n",
    "        \n",
    "        return -1\n",
    "    \n",
    "    return df31"
   ]
  },
  {
   "cell_type": "code",
   "execution_count": 269,
   "metadata": {},
   "outputs": [],
   "source": [
    "#calculate the correlations\n",
    "def corr(countries):\n",
    "    \n",
    "    #collections\n",
    "    corrs = []\n",
    "    country2 = []\n",
    "    gdp = []\n",
    "    gini = []\n",
    "    \n",
    "    for i in countries:\n",
    "        \n",
    "        #select the data\n",
    "        df12 = select1(i)\n",
    "        df22 = select2(i)\n",
    "        \n",
    "        #find overlapping timeline\n",
    "        frange = ranges(df12,df22)\n",
    "        \n",
    "        #merge the two datasets\n",
    "        df31 = merges(df12,df22,frange)\n",
    "        \n",
    "        #if enough gini data:\n",
    "        if type(df31) != int:\n",
    "            \n",
    "            #calculate percent changes\n",
    "            df31['%gdp'] = df31['gdp'].pct_change()\n",
    "            df31['%gini'] = df31['gini'].pct_change()\n",
    "            \n",
    "            #start\n",
    "            start = list(frange)[1]\n",
    "            \n",
    "            corrs.append(df31.loc[start:,'%gdp'].corr(df31.loc[start:,'%gini'],method = 'pearson'))#calculate correlation\n",
    "            \n",
    "            gdp.append(df31['gdp'].mean())#store the gdp\n",
    "            gini.append(df31['gini'].mean())#store the gini\n",
    "            \n",
    "            #store successful correlation\n",
    "            country2.append(i)\n",
    "            \n",
    "            #trouble shoot\n",
    "            print(i,len(frange),start)\n",
    "            #print(df31)\n",
    "        \n",
    "    return corrs,country2,gdp,gini"
   ]
  },
  {
   "cell_type": "code",
   "execution_count": 270,
   "metadata": {
    "scrolled": false
   },
   "outputs": [
    {
     "name": "stdout",
     "output_type": "stream",
     "text": [
      "Angola 24 1971\n",
      "Armenia 21 1995\n",
      "Burundi 43 1972\n",
      "China 34 1978\n",
      "Congo 21 1969\n",
      "Costa Rica 41 1964\n",
      "Gabon 30 1967\n",
      "Iceland 27 1971\n",
      "Ivory Coast 32 1967\n",
      "Jamaica 42 1964\n",
      "Lesotho 28 1983\n",
      "Mozambique 34 1968\n",
      "Nepal 23 1987\n",
      "Romania 53 1964\n",
      "Rwanda 18 1970\n",
      "Saudi Arabia 14 1997\n",
      "Sri Lanka 49 1967\n",
      "Thailand 39 1969\n",
      "Tunisia 52 1964\n",
      "Uganda 38 1964\n",
      "United Arab Emirates 9 1978\n",
      "Vietnam 17 1999\n",
      "Zambia 32 1964\n"
     ]
    },
    {
     "data": {
      "text/plain": [
       "[-0.3767359949575082,\n",
       " 0.11936476981722809,\n",
       " -0.1915992758095489,\n",
       " -0.14360414422659787,\n",
       " -0.4365970909681805,\n",
       " -0.14659526465736866,\n",
       " -0.05437937888802234,\n",
       " 0.28211802935980523,\n",
       " -0.11239960637693194,\n",
       " 0.04381813548635227,\n",
       " -0.2171051795210892,\n",
       " 0.14756325704923295,\n",
       " -0.6087408713037807,\n",
       " -0.381948406061946,\n",
       " 0.09535273044977212,\n",
       " -0.5292456961096372,\n",
       " 0.11204774554629317,\n",
       " -0.21374963632755137,\n",
       " -0.065109949850135,\n",
       " -0.08118662467547301,\n",
       " -0.5540318752957741,\n",
       " 0.16247584762643366,\n",
       " -0.4412287918146889]"
      ]
     },
     "execution_count": 270,
     "metadata": {},
     "output_type": "execute_result"
    }
   ],
   "source": [
    "#main\n",
    "\n",
    "#replace faulty spelling\n",
    "df1 = df1.replace(['Iran (Islamic Republic of)',\"Côte d'Ivoire\",'Myanmar','United States','Venezuela (Bolivarian Republic of)', 'Viet Nam'],['Iran','Ivory Coast','Myanmar (Burma)', 'United States of America', 'Venezuela', 'Vietnam'])\n",
    "\n",
    "#running the country overlap finder\n",
    "countries = country()\n",
    "\n",
    "#sorting the countries alphabetically\n",
    "countries = sorted(list(country()))\n",
    "\n",
    "#running sub program\n",
    "corrs,country2,gdp,gini = corr(countries)\n",
    "\n",
    "#re-adjusting countries\n",
    "countries = country2\n",
    "corrs"
   ]
  },
  {
   "cell_type": "markdown",
   "metadata": {},
   "source": [
    "# Visualisation"
   ]
  },
  {
   "cell_type": "code",
   "execution_count": 271,
   "metadata": {},
   "outputs": [
    {
     "data": {
      "image/png": "[encoded data removed]",
      "text/plain": [
       "<Figure size 1440x1080 with 1 Axes>"
      ]
     },
     "metadata": {
      "needs_background": "light"
     },
     "output_type": "display_data"
    },
    {
     "data": {
      "text/plain": [
       "-0.15615292484822244"
      ]
     },
     "execution_count": 271,
     "metadata": {},
     "output_type": "execute_result"
    }
   ],
   "source": [
    "df4 = pd.DataFrame()\n",
    "df4['country'] = countries\n",
    "df4['cor'] = corrs\n",
    "df4 = df4.sort_values(by=['cor'])\n",
    "\n",
    "fig,ax = plt.subplots(figsize = (20,15))\n",
    "sns.barplot(x = 'country',y ='cor', data = df4, palette = 'rainbow').set_title('Correlation between Gini Index and Real GDP PPP per Capita')\n",
    "plt.ylabel('Correlation')\n",
    "plt.xlabel('Country')\n",
    "plt.xticks(rotation=90)\n",
    "plt.show()\n",
    "df4['cor'].mean()"
   ]
  },
  {
   "cell_type": "code",
   "execution_count": 272,
   "metadata": {},
   "outputs": [
    {
     "data": {
      "image/png": "[encoded data removed]",
      "text/plain": [
       "<Figure size 504x360 with 2 Axes>"
      ]
     },
     "metadata": {},
     "output_type": "display_data"
    }
   ],
   "source": [
    "df42 = pd.DataFrame()\n",
    "df42['gdp'] = gdp\n",
    "df42['gini'] = gini\n",
    "df42['corr'] = corrs\n",
    "\n",
    "corr = df42.corr()\n",
    "mask = np.zeros_like(corr)\n",
    "mask[np.triu_indices_from(mask)] = True\n",
    "with sns.axes_style(\"white\"):\n",
    "    f, ax = plt.subplots(figsize=(7, 5))\n",
    "    ax = sns.heatmap(corr, mask=mask, annot = True,vmin = -1,vmax = 1, square = True)\n"
   ]
  },
  {
   "cell_type": "code",
   "execution_count": 289,
   "metadata": {},
   "outputs": [],
   "source": [
    "from bokeh.plotting import figure, output_file, show \n",
    "        \n",
    "# file to save the model \n",
    "output_file(\"gfg.html\") \n",
    "        \n",
    "# instantiating the figure object \n",
    "graph = figure(title = \"Inequality and GDP estimation\") \n",
    "      \n",
    "graph.xaxis.axis_label = \"GDP\"\n",
    "       \n",
    "# name of the y-axis  \n",
    "graph.yaxis.axis_label = \"Inequality\"\n",
    "\n",
    "# the points to be plotted \n",
    "x0 = 0\n",
    "y0 = 0\n",
    "x1 = 1\n",
    "y1 = 0\n",
    "cx = 0.5\n",
    "cy = 2\n",
    "  \n",
    "# plotting the graph \n",
    "graph.quadratic(x0, y0, \n",
    "                x1, y1, \n",
    "                cx, cy) \n",
    "      \n",
    "# displaying the model \n",
    "show(graph) "
   ]
  }
 ],
 "metadata": {
  "kernelspec": {
   "display_name": "Python 3",
   "language": "python",
   "name": "python3"
  },
  "language_info": {
   "codemirror_mode": {
    "name": "ipython",
    "version": 3
   },
   "file_extension": ".py",
   "mimetype": "text/x-python",
   "name": "python",
   "nbconvert_exporter": "python",
   "pygments_lexer": "ipython3",
   "version": "3.7.6"
  }
 },
 "nbformat": 4,
 "nbformat_minor": 4
}
